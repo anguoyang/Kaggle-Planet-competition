{
 "cells": [
  {
   "cell_type": "code",
   "execution_count": 2,
   "metadata": {
    "collapsed": true
   },
   "outputs": [],
   "source": [
    "import pandas as pd\n",
    "import numpy as np\n",
    "labels_df = pd.read_csv('train_v2.csv')"
   ]
  },
  {
   "cell_type": "code",
   "execution_count": 20,
   "metadata": {
    "collapsed": false
   },
   "outputs": [
    {
     "data": {
      "text/plain": [
       "13"
      ]
     },
     "execution_count": 20,
     "metadata": {},
     "output_type": "execute_result"
    }
   ],
   "source": [
    "string_labels = [\n",
    " 'primary',\n",
    " 'water',\n",
    " 'habitation',\n",
    " 'road',\n",
    " 'agriculture',\n",
    " 'cultivation',\n",
    " 'conventional_mine',\n",
    " 'bare_ground',\n",
    " 'slash_burn',\n",
    " 'artisinal_mine',\n",
    " 'selective_logging',\n",
    " 'blooming',\n",
    " 'blow_down']\n",
    "\n",
    "label_dict = {}\n",
    "label_dict['>'] = 0 #start\n",
    "\n",
    "count = 1\n",
    "for i in string_labels:\n",
    "    label_dict[i] = count\n",
    "    count+=1\n",
    "    \n",
    "label_dict[' '] = 14 #PAD\n",
    "    \n",
    "\n",
    "    \n",
    "label_dict['blow_down']"
   ]
  },
  {
   "cell_type": "code",
   "execution_count": 45,
   "metadata": {
    "collapsed": false
   },
   "outputs": [],
   "source": [
    "labels = np.zeros([len(labels_df),10,15])\n",
    "\n",
    "\n",
    "for tag in range(len(labels_df)):\n",
    "    count = 0\n",
    "    split_tag = labels_df['tags'][tag].split(' ')\n",
    "    for label in range(len(string_labels)):\n",
    "        \n",
    "        if string_labels[label] in split_tag:\n",
    "            label_vec = np.zeros([15])\n",
    "            idx = label_dict[string_labels[label]]\n",
    "            label_vec[idx] = 1\n",
    "            labels[tag, count, :] = label_vec\n",
    "            count+=1\n",
    "            \n",
    "\n"
   ]
  },
  {
   "cell_type": "code",
   "execution_count": 46,
   "metadata": {
    "collapsed": true
   },
   "outputs": [],
   "source": [
    "out = 'padded_multi_labels'\n",
    "np.save(out, labels)"
   ]
  },
  {
   "cell_type": "code",
   "execution_count": 4,
   "metadata": {
    "collapsed": false
   },
   "outputs": [
    {
     "data": {
      "text/plain": [
       "0                                             haze primary\n",
       "1                          agriculture clear primary water\n",
       "2                                            clear primary\n",
       "3                                            clear primary\n",
       "4                agriculture clear habitation primary road\n",
       "5                                       haze primary water\n",
       "6              agriculture clear cultivation primary water\n",
       "7                                             haze primary\n",
       "8                    agriculture clear cultivation primary\n",
       "9               agriculture clear cultivation primary road\n",
       "10              agriculture clear primary slash_burn water\n",
       "11                                     clear primary water\n",
       "12                                                  cloudy\n",
       "13                                           clear primary\n",
       "14                                                  cloudy\n",
       "15                                           clear primary\n",
       "16                                           clear primary\n",
       "17                                   partly_cloudy primary\n",
       "18                                           clear primary\n",
       "19                          agriculture clear primary road\n",
       "20                         agriculture clear primary water\n",
       "21                                clear primary road water\n",
       "22                                   partly_cloudy primary\n",
       "23                          agriculture clear primary road\n",
       "24                 conventional_mine partly_cloudy primary\n",
       "25                                           clear primary\n",
       "26                                                  cloudy\n",
       "27                 agriculture partly_cloudy primary water\n",
       "28                                           clear primary\n",
       "29                                   partly_cloudy primary\n",
       "                               ...                        \n",
       "40449                                  clear primary water\n",
       "40450    agriculture cultivation partly_cloudy primary ...\n",
       "40451                                        clear primary\n",
       "40452                                        clear primary\n",
       "40453                         artisinal_mine clear primary\n",
       "40454                                        clear primary\n",
       "40455    agriculture partly_cloudy primary road convent...\n",
       "40456                                        clear primary\n",
       "40457           clear primary road selective_logging water\n",
       "40458                       agriculture clear primary road\n",
       "40459                                  clear primary water\n",
       "40460                                        clear primary\n",
       "40461                                               cloudy\n",
       "40462                                        clear primary\n",
       "40463                             agriculture haze primary\n",
       "40464               agriculture partly_cloudy primary road\n",
       "40465                              blow_down clear primary\n",
       "40466                                        clear primary\n",
       "40467                       agriculture clear primary road\n",
       "40468                            agriculture clear primary\n",
       "40469                                   haze primary water\n",
       "40470                        clear habitation primary road\n",
       "40471                                        clear primary\n",
       "40472                            agriculture clear primary\n",
       "40473            agriculture clear habitation primary road\n",
       "40474                                        clear primary\n",
       "40475                                               cloudy\n",
       "40476                            agriculture clear primary\n",
       "40477                       agriculture clear primary road\n",
       "40478        agriculture cultivation partly_cloudy primary\n",
       "Name: tags, dtype: object"
      ]
     },
     "execution_count": 4,
     "metadata": {},
     "output_type": "execute_result"
    }
   ],
   "source": [
    "labels_df['tags']"
   ]
  },
  {
   "cell_type": "code",
   "execution_count": 87,
   "metadata": {
    "collapsed": false
   },
   "outputs": [],
   "source": [
    "complete_labels = []\n",
    "reverse_complete_dict ={}\n",
    "complete_dict = {}\n",
    "y_scalar = []\n",
    "\n",
    "count = 0\n",
    "for tag in labels_df['tags']:\n",
    "    split_tag = tag.split(' ')\n",
    "    multi_labels =  [i for i in split_tag if i in string_labels]\n",
    "    new_tag =''\n",
    "    for k in range(len(multi_labels)):\n",
    "        new_tag +=multi_labels[k]\n",
    "        \n",
    "        if k != len(multi_labels)-1:\n",
    "            new_tag+= ' '\n",
    "    \n",
    "    \n",
    "#     new_tag = str(multi_labels)\n",
    "    if new_tag not in complete_labels:\n",
    "        complete_labels.append(new_tag)\n",
    "        complete_dict[new_tag] = count\n",
    "        reverse_complete_dict[count] = new_tag\n",
    "        count+=1\n",
    "        \n",
    "    y_scalar.append(complete_dict[new_tag])"
   ]
  },
  {
   "cell_type": "code",
   "execution_count": 67,
   "metadata": {
    "collapsed": false
   },
   "outputs": [
    {
     "data": {
      "text/plain": [
       "'agriculture cultivation primary'"
      ]
     },
     "execution_count": 67,
     "metadata": {},
     "output_type": "execute_result"
    }
   ],
   "source": [
    "new_tag"
   ]
  },
  {
   "cell_type": "code",
   "execution_count": 70,
   "metadata": {
    "collapsed": false
   },
   "outputs": [
    {
     "data": {
      "text/plain": [
       "40479"
      ]
     },
     "execution_count": 70,
     "metadata": {},
     "output_type": "execute_result"
    }
   ],
   "source": [
    "len(y_scalar)"
   ]
  },
  {
   "cell_type": "code",
   "execution_count": 89,
   "metadata": {
    "collapsed": false
   },
   "outputs": [
    {
     "data": {
      "text/plain": [
       "277"
      ]
     },
     "execution_count": 89,
     "metadata": {},
     "output_type": "execute_result"
    }
   ],
   "source": [
    "max(y_scalar)"
   ]
  },
  {
   "cell_type": "code",
   "execution_count": 90,
   "metadata": {
    "collapsed": true
   },
   "outputs": [],
   "source": [
    "np_y_scalar = np.stack(y_scalar)"
   ]
  },
  {
   "cell_type": "code",
   "execution_count": 91,
   "metadata": {
    "collapsed": false
   },
   "outputs": [
    {
     "data": {
      "text/plain": [
       "(40479,)"
      ]
     },
     "execution_count": 91,
     "metadata": {},
     "output_type": "execute_result"
    }
   ],
   "source": [
    "np_y_scalar.shape"
   ]
  },
  {
   "cell_type": "code",
   "execution_count": 92,
   "metadata": {
    "collapsed": true
   },
   "outputs": [],
   "source": [
    "out = 'full_string_labels'\n",
    "np.save(out, np_y_scalar)"
   ]
  },
  {
   "cell_type": "code",
   "execution_count": null,
   "metadata": {
    "collapsed": true
   },
   "outputs": [],
   "source": []
  }
 ],
 "metadata": {
  "anaconda-cloud": {},
  "kernelspec": {
   "display_name": "Python [default]",
   "language": "python",
   "name": "python3"
  },
  "language_info": {
   "codemirror_mode": {
    "name": "ipython",
    "version": 3
   },
   "file_extension": ".py",
   "mimetype": "text/x-python",
   "name": "python",
   "nbconvert_exporter": "python",
   "pygments_lexer": "ipython3",
   "version": "3.5.2"
  }
 },
 "nbformat": 4,
 "nbformat_minor": 1
}
