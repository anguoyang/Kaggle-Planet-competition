{
 "cells": [
  {
   "cell_type": "markdown",
   "metadata": {},
   "source": [
    "Import the training labels and 1-hot encode them;\n",
    "NB Multiple positive classes per image."
   ]
  },
  {
   "cell_type": "markdown",
   "metadata": {},
   "source": [
    "End up with saved np array of shape[training_images, 17]"
   ]
  },
  {
   "cell_type": "code",
   "execution_count": 1,
   "metadata": {
    "collapsed": true
   },
   "outputs": [],
   "source": [
    "import pandas as pd\n",
    "import numpy as np\n",
    "labels_df = pd.read_csv('train_v2.csv')"
   ]
  },
  {
   "cell_type": "code",
   "execution_count": 1,
   "metadata": {
    "collapsed": false
   },
   "outputs": [
    {
     "data": {
      "text/plain": [
       "9"
      ]
     },
     "execution_count": 1,
     "metadata": {},
     "output_type": "execute_result"
    }
   ],
   "source": [
    "string_labels = ['haze',\n",
    " 'primary',\n",
    " 'agriculture',\n",
    " 'clear',\n",
    " 'water',\n",
    " 'habitation',\n",
    " 'road',\n",
    " 'cultivation',\n",
    " 'slash_burn',\n",
    " 'cloudy',\n",
    " 'partly_cloudy',\n",
    " 'conventional_mine',\n",
    " 'bare_ground',\n",
    " 'artisinal_mine',\n",
    " 'blooming',\n",
    " 'selective_logging',\n",
    " 'blow_down']\n",
    "\n",
    "label_dict = {}\n",
    "\n",
    "count = 0\n",
    "for i in string_labels:\n",
    "    label_dict[i] = count\n",
    "    count+=1\n",
    "    \n",
    "label_dict['cloudy']"
   ]
  },
  {
   "cell_type": "code",
   "execution_count": 4,
   "metadata": {
    "collapsed": false
   },
   "outputs": [
    {
     "data": {
      "text/plain": [
       "'partly_cloudy'"
      ]
     },
     "execution_count": 4,
     "metadata": {},
     "output_type": "execute_result"
    }
   ],
   "source": [
    "reverse_dict = {}\n",
    "\n",
    "for tag in string_labels:\n",
    "    idx = label_dict[tag]\n",
    "    reverse_dict[idx] = tag\n",
    "    \n",
    "reverse_dict[10]"
   ]
  },
  {
   "cell_type": "code",
   "execution_count": 39,
   "metadata": {
    "collapsed": false
   },
   "outputs": [],
   "source": [
    "label_mat = np.zeros([len(labels_df['tags']), len(string_labels) ])\n",
    "\n",
    "count = 0\n",
    "for tag in labels_df['tags']:\n",
    "    split_tag = tag.split(' ')\n",
    "    for single_tag in split_tag:\n",
    "        label_mat[count, label_dict[single_tag]] = 1\n",
    "    \n",
    "    count += 1\n"
   ]
  },
  {
   "cell_type": "code",
   "execution_count": 50,
   "metadata": {
    "collapsed": false
   },
   "outputs": [],
   "source": [
    "out = 'train_labels'\n",
    "np.save(out, label_mat)"
   ]
  },
  {
   "cell_type": "markdown",
   "metadata": {
    "collapsed": false
   },
   "source": [
    "Now make labels for separate weather/ multi classifiers\n",
    "\n"
   ]
  },
  {
   "cell_type": "code",
   "execution_count": 2,
   "metadata": {
    "collapsed": false
   },
   "outputs": [
    {
     "data": {
      "text/plain": [
       "3"
      ]
     },
     "execution_count": 2,
     "metadata": {},
     "output_type": "execute_result"
    }
   ],
   "source": [
    "string_labels = ['clear',\n",
    " 'haze',\n",
    " 'partly_cloudy',\n",
    " 'cloudy',\n",
    " 'primary',\n",
    " 'agriculture',\n",
    " 'water',\n",
    " 'habitation',\n",
    " 'road',\n",
    " 'cultivation',\n",
    " 'slash_burn',\n",
    " 'conventional_mine',\n",
    " 'bare_ground',\n",
    " 'artisinal_mine',\n",
    " 'blooming',\n",
    " 'selective_logging',\n",
    " 'blow_down']\n",
    "\n",
    "label_dict = {}\n",
    "\n",
    "count = 0\n",
    "for i in string_labels:\n",
    "    label_dict[i] = count\n",
    "    count+=1\n",
    "    \n",
    "label_dict['cloudy']"
   ]
  },
  {
   "cell_type": "code",
   "execution_count": 3,
   "metadata": {
    "collapsed": true
   },
   "outputs": [],
   "source": [
    "label_mat = np.zeros([len(labels_df['tags']), len(string_labels) ])\n",
    "\n",
    "count = 0\n",
    "for tag in labels_df['tags']:\n",
    "    split_tag = tag.split(' ')\n",
    "    for single_tag in split_tag:\n",
    "        label_mat[count, label_dict[single_tag]] = 1\n",
    "    \n",
    "    count += 1"
   ]
  },
  {
   "cell_type": "code",
   "execution_count": 7,
   "metadata": {
    "collapsed": false
   },
   "outputs": [],
   "source": [
    "out = 'train_labels2'\n",
    "np.save(out, label_mat)"
   ]
  },
  {
   "cell_type": "code",
   "execution_count": null,
   "metadata": {
    "collapsed": false
   },
   "outputs": [],
   "source": []
  },
  {
   "cell_type": "code",
   "execution_count": null,
   "metadata": {
    "collapsed": true
   },
   "outputs": [],
   "source": []
  }
 ],
 "metadata": {
  "anaconda-cloud": {},
  "kernelspec": {
   "display_name": "Python [default]",
   "language": "python",
   "name": "python3"
  },
  "language_info": {
   "codemirror_mode": {
    "name": "ipython",
    "version": 3
   },
   "file_extension": ".py",
   "mimetype": "text/x-python",
   "name": "python",
   "nbconvert_exporter": "python",
   "pygments_lexer": "ipython3",
   "version": "3.5.2"
  }
 },
 "nbformat": 4,
 "nbformat_minor": 1
}
